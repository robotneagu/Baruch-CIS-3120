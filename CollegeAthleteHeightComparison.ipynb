{
 "cells": [
  {
   "cell_type": "markdown",
   "metadata": {},
   "source": [
    "### Importing Libraries"
   ]
  },
  {
   "cell_type": "code",
   "execution_count": 1,
   "metadata": {},
   "outputs": [],
   "source": [
    "#Import Libraries\n",
    "import requests\n",
    "from bs4 import BeautifulSoup\n",
    "import numpy as np\n",
    "import pandas as pd\n",
    "import matplotlib.pyplot as plt"
   ]
  },
  {
   "cell_type": "markdown",
   "metadata": {},
   "source": [
    "### Creating Dictionary"
   ]
  },
  {
   "cell_type": "code",
   "execution_count": 2,
   "metadata": {},
   "outputs": [],
   "source": [
    "#Creating a dictionary that sorts and stores all the URLs\n",
    "\n",
    "athlete_records = {\n",
    "    'Mens Volleyball': ['https://ccnyathletics.com/sports/mens-volleyball/roster?view=2', 'https://lehmanathletics.com/sports/mens-volleyball/roster?view=2', 'https://www.brooklyncollegeathletics.com/sports/mens-volleyball/roster?view=2', 'https://johnjayathletics.com/sports/mens-volleyball/roster?view=2', 'https://athletics.baruch.cuny.edu/sports/mens-volleyball/roster?view=2', 'https://mecathletics.com/sports/mens-volleyball/roster?view=2', 'https://www.huntercollegeathletics.com/sports/mens-volleyball/roster?view=2', 'https://yorkathletics.com/sports/mens-volleyball/roster?view=2', 'https://ballstatesports.com/sports/mens-volleyball/roster?view=2'],\n",
    "    'Mens Swimming': ['https://csidolphins.com/sports/mens-swimming-and-diving/roster?view=2', 'https://yorkathletics.com/sports/mens-swimming-and-diving/roster?view=2', 'https://athletics.baruch.cuny.edu/sports/mens-swimming-and-diving/roster?view=2', 'https://www.brooklyncollegeathletics.com/sports/mens-swimming-and-diving/roster?view=2', 'https://lindenwoodlions.com/sports/mens-swimming-and-diving/roster?view=2', 'https://mckbearcats.com/sports/mens-swimming-and-diving/roster?view=2', 'https://ramapoathletics.com/sports/mens-swimming-and-diving/roster?view=2', 'https://oneontaathletics.com/sports/mens-swimming-and-diving/roster?view=2', 'https://bubearcats.com/sports/mens-swimming-and-diving/roster/2021-22?view=2', 'https://albrightathletics.com/sports/mens-swimming-and-diving/roster/2021-22?view=2'],\n",
    "    'Womens Volleyball': ['https://bmccathletics.com/sports/womens-volleyball/roster?view=2', 'https://yorkathletics.com/sports/womens-volleyball/roster?view=2', 'https://hostosathletics.com/sports/womens-volleyball/roster?view=2', 'https://bronxbroncos.com/sports/womens-volleyball/roster/2021?view=2', 'https://queensknights.com/sports/womens-volleyball/roster?view=2', 'https://augustajags.com/sports/wvball/roster?view=2', 'https://flaglerathletics.com/sports/womens-volleyball/roster?view=2', 'https://pacersports.com/sports/womens-volleyball/roster?view=2', 'https://www.golhu.com/sports/womens-volleyball/roster?view=2'],\n",
    "    'Womens Swimming': ['https://csidolphins.com/sports/womens-swimming-and-diving/roster?view=2', 'https://queensknights.com/sports/womens-swimming-and-diving/roster?view=2', 'https://yorkathletics.com/sports/womens-swimming-and-diving/roster?view=2', 'https://athletics.baruch.cuny.edu/sports/womens-swimming-and-diving/roster/2021-22?path=wswim?view=2', 'https://www.brooklyncollegeathletics.com/sports/womens-swimming-and-diving/roster?view=2', 'https://lindenwoodlions.com/sports/womens-swimming-and-diving/roster?view=2', 'https://mckbearcats.com/sports/womens-swimming-and-diving/roster?view=2', 'https://ramapoathletics.com/sports/womens-swimming-and-diving/roster?view=2', 'https://keanathletics.com/sports/womens-swimming-and-diving/roster?view=2', 'https://oneontaathletics.com/sports/womens-swimming-and-diving/roster?view=2']\n",
    "}"
   ]
  },
  {
   "cell_type": "markdown",
   "metadata": {},
   "source": [
    "### Creating Function"
   ]
  },
  {
   "cell_type": "code",
   "execution_count": 3,
   "metadata": {},
   "outputs": [],
   "source": [
    "#create function to scrape names & heights\n",
    "def web_scraper(url_lists):\n",
    "\n",
    "#make empty lists for names and heights to be appended into\n",
    "    scraped_names = []\n",
    "    scraped_heights = []\n",
    "\n",
    "    #create loop for each url in the list\n",
    "    for url in url_lists:\n",
    "        page = requests.get(url)\n",
    "\n",
    "        #loop proceeds if connection is successful\n",
    "        if page.status_code == 200:\n",
    "            soup = BeautifulSoup(page.content, 'html.parser')\n",
    "\n",
    "            #extracting all td tags with height class\n",
    "            raw_height = soup.find_all('td', class_ ='height')\n",
    "\n",
    "            #extracting all td tags with name class\n",
    "            raw_name = soup.find_all('td', class_ = 'sidearm-table-player-name')\n",
    "\n",
    "            #using 1 loop to scrape names & heights\n",
    "            for i in range(len(raw_height)):\n",
    "                name = raw_name[i].get_text().strip('\\n')\n",
    "                height = raw_height[i].get_text().strip('\\n')\n",
    "\n",
    "                #putting scraped names in the scraped_names list\n",
    "                scraped_names.append(name)\n",
    "\n",
    "                #replacing dash with a NaN\n",
    "                if height == '-':\n",
    "                    height = np.nan\n",
    "                else:\n",
    "                #Otherwise, extract feet & inches as float. Then convert entire height into inches\n",
    "                    height = height.split('-')\n",
    "                    feet = float(height[0])\n",
    "                    inches = float(height[1])\n",
    "                    height = feet*12 + inches\n",
    "                \n",
    "                #putting converted height into scraped_heights list\n",
    "                scraped_heights.append(height)\n",
    "            \n",
    "            #building the dataframe\n",
    "            athletes_heights = {'Names': scraped_names, 'Height': scraped_heights}\n",
    "            athletes_heights_df = pd.DataFrame(athletes_heights)\n",
    "    \n",
    "    #Export dataframe to a CSV. Removes index numbers yet keeps athletes in same positions.\n",
    "    athletes_heights_df.to_csv('AthleteHeights.csv', index=False)\n",
    "\n",
    "    #Setup mean calculation\n",
    "    mean_value = athletes_heights_df['Height'].mean()\n",
    "\n",
    "    #Find 5 tallest heights by removing duplicate heights and selecting the 5 largest values\n",
    "    tallest_heights = athletes_heights_df['Height'].drop_duplicates().sort_values(ascending=False).nlargest(5)\n",
    "    #Refer to original database and check which heights are in tallest_heights. Create dataframe from this.\n",
    "    tallest_heights_df = athletes_heights_df[athletes_heights_df['Height'].isin(tallest_heights)]\n",
    "    #Sorts dataframe for tallest heights in descending order. Then covert into list\n",
    "    tallest_heights_list = tallest_heights_df.sort_values(by='Height', ascending=False).values.tolist()\n",
    "\n",
    "    #Find 5 shortest heights by removing duplicate heights and selecting the 5 smallest values\n",
    "    shortest_heights = athletes_heights_df['Height'].drop_duplicates().nsmallest(5)\n",
    "    #Refer to original database and check which heights are in shortest_heights. Create dataframe from this.\n",
    "    shortest_heights_df = athletes_heights_df[athletes_heights_df['Height'].isin(shortest_heights)]\n",
    "    #Sort height in ascending order for the shortest heights. Then convert into list\n",
    "    shortest_heights_list = shortest_heights_df.sort_values(by='Height').values.tolist()\n",
    "\n",
    "    #returning desired variables to be calculated in this function. Input must be in this order.\n",
    "    #Allows user to set multiple variables with one function.\n",
    "    return athletes_heights_df, mean_value, tallest_heights_list, shortest_heights_list"
   ]
  },
  {
   "cell_type": "markdown",
   "metadata": {},
   "source": [
    "### Men Volleyball Team"
   ]
  },
  {
   "cell_type": "code",
   "execution_count": 4,
   "metadata": {},
   "outputs": [],
   "source": [
    "#Sets variables for all men in volleyball, the average height, and the 5 tallest and shortest heights.\n",
    "#URL is inputted into the web_scraper function\n",
    "all_men_volleyball, all_men_volleyball_avg, men_volleyball_tallest, men_volleyball_shortest = web_scraper(athlete_records['Mens Volleyball'])"
   ]
  },
  {
   "cell_type": "code",
   "execution_count": 5,
   "metadata": {},
   "outputs": [
    {
     "name": "stdout",
     "output_type": "stream",
     "text": [
      "['Will  Patterson', 82.0]\n",
      "['Patrick Rogers', 79.0]\n",
      "['Kyle Barriffe-Johnson', 79.0]\n",
      "['Akil Vaughn', 79.0]\n",
      "['Griffin Satterfield', 79.0]\n",
      "['Peter  Zurawski', 78.0]\n",
      "['Matisse Lee-Maarek', 78.0]\n",
      "['Tinaishe Ndavazocheva', 78.0]\n",
      "['Dyer Ball', 78.0]\n",
      "['Eyal Rawitz', 78.0]\n",
      "['Machado Lucas', 78.0]\n",
      "['Vanis Buckholz', 78.0]\n",
      "['Trevor Phillips', 78.0]\n",
      "['Rodney Wallace', 78.0]\n",
      "['Jimmy Chang', 78.0]\n",
      "['Austinson Cooke', 77.0]\n",
      "['Haoxin Hu', 77.0]\n",
      "['Jack Nugent', 77.0]\n",
      "['Marty Canavan', 77.0]\n",
      "['Ryan Bartz', 77.0]\n",
      "['Carlos Rodriguez', 76.0]\n",
      "['Aleksandr  Howard', 76.0]\n",
      "['Jason Lin', 76.0]\n",
      "['Michael Higgins', 76.0]\n",
      "['Steven Ajazi', 76.0]\n",
      "['Nathan Goh', 76.0]\n",
      "['Wil McPhillips', 76.0]\n",
      "['Rudy Janga', 76.0]\n",
      "['Akashdeep Singh', 76.0]\n",
      "['Keau Thompson', 76.0]\n",
      "['Armand  Kaloshi', 76.0]\n"
     ]
    }
   ],
   "source": [
    "#Prints the list of names and heights of men volleyball players who have the 5 tallest heights\n",
    "#Asterisk used to return values one at a time. Used with seperator to make list easier to read, not in 1 line.\n",
    "#Format used for all other lists for 5 tallest/shortest heights below.\n",
    "print(*men_volleyball_tallest, sep='\\n')"
   ]
  },
  {
   "cell_type": "code",
   "execution_count": 6,
   "metadata": {},
   "outputs": [
    {
     "name": "stdout",
     "output_type": "stream",
     "text": [
      "['Angel Gabriel Chabla', 63.0]\n",
      "['Chris  Mata', 63.0]\n",
      "['Bryce Glasper', 64.0]\n",
      "['Jonathan  Liao', 65.0]\n",
      "['Dion  Csikortos', 65.0]\n",
      "['Wai  Lin', 65.0]\n",
      "['Naoki Tani', 67.0]\n",
      "['Carlos Llivicura', 67.0]\n",
      "['Jimmy Evans', 67.0]\n",
      "['Christian Agudo', 67.0]\n",
      "['Ray Rodriguez', 67.0]\n",
      "['David Reyes Galvez', 67.0]\n",
      "['Miguel Gonzalez', 67.0]\n",
      "['Xander Pink', 67.0]\n",
      "['Stanley  Sanchez', 68.0]\n",
      "['Sebastian Rodriguez', 68.0]\n",
      "['Daniel Gonzalez Verdejo', 68.0]\n",
      "['Evan Wandersee', 68.0]\n",
      "['David Lema', 68.0]\n",
      "['Edwin Fierros Gaytan', 68.0]\n",
      "['Jerome Galam', 68.0]\n",
      "['Carlos Abreu', 68.0]\n",
      "['Jubril Okunlola', 68.0]\n",
      "['Raymond Yu', 68.0]\n",
      "['Abubakar Khamis', 68.0]\n"
     ]
    }
   ],
   "source": [
    "#Prints the list of names and heights of men volleyball players who have the 5 shortest heights\n",
    "print(*men_volleyball_shortest, sep='\\n')"
   ]
  },
  {
   "cell_type": "markdown",
   "metadata": {},
   "source": [
    "### Men Swimmers"
   ]
  },
  {
   "cell_type": "code",
   "execution_count": 7,
   "metadata": {},
   "outputs": [],
   "source": [
    "#Sets variables for all men in swimming, the average height, and the 5 tallest and shortest heights.\n",
    "#URL is inputted into the web_scraper function\n",
    "all_men_swimming, all_men_swimming_avg, men_swimming_tallest, men_swimming_shortest = web_scraper(athlete_records['Mens Swimming'])"
   ]
  },
  {
   "cell_type": "code",
   "execution_count": 8,
   "metadata": {},
   "outputs": [
    {
     "name": "stdout",
     "output_type": "stream",
     "text": [
      "['Colton Grimes', 79.0]\n",
      "['Tyson Upton', 79.0]\n",
      "['Eric Kroon', 77.0]\n",
      "['Mattia Giurgevich', 76.0]\n",
      "['Adam Szcerba', 76.0]\n",
      "['Nicholas Griffith', 76.0]\n",
      "['Brian Harding', 76.0]\n",
      "['Matthew Stooke', 76.0]\n",
      "['Henry Shemet', 75.0]\n",
      "['Patryk Rozenek', 75.0]\n",
      "['Joe Swede', 75.0]\n",
      "['Jack Hill', 75.0]\n",
      "['Youssef  Elkhouly', 75.0]\n",
      "['Ryan Maierle', 75.0]\n",
      "['Ethan Hanson', 75.0]\n",
      "['Owen Brubaker', 75.0]\n",
      "['Peter Vanderwerf', 75.0]\n",
      "['Robert Reining', 74.0]\n",
      "['Justin Meyn', 74.0]\n",
      "['Elijah Lanfear', 74.0]\n",
      "['Matthew Palguta', 74.0]\n",
      "['Gary Danilyan', 74.0]\n",
      "['Cosmo Martinelli', 74.0]\n",
      "['Thomas Breen', 74.0]\n",
      "['Nathan Pollard', 74.0]\n",
      "['Patrick Cramer', 74.0]\n",
      "['Elliott Irwin', 74.0]\n",
      "['Ryan Boeding', 74.0]\n",
      "['Isaac Zambrano', 74.0]\n",
      "['Abdul  Khan', 74.0]\n",
      "['Noah Tague', 74.0]\n"
     ]
    }
   ],
   "source": [
    "#Shows list of names and heights of men swimmers who have the 5 tallest heights\n",
    "print(*men_swimming_tallest, sep='\\n')"
   ]
  },
  {
   "cell_type": "code",
   "execution_count": 9,
   "metadata": {},
   "outputs": [
    {
     "name": "stdout",
     "output_type": "stream",
     "text": [
      "['Miles Fleischer', 63.0]\n",
      "['Charles Cusumano', 64.0]\n",
      "['Joseph Scarpetta ', 65.0]\n",
      "['Wyatt Kurtz', 65.0]\n",
      "['Samuel De Leon', 65.0]\n",
      "['Tyler Canteen', 66.0]\n",
      "['AJ Guevara', 66.0]\n",
      "['James  Llewellyn', 66.0]\n",
      "['Zachary Ciriaco', 66.0]\n",
      "['Christopher Egan', 66.0]\n",
      "['Eslam Hussein', 67.0]\n",
      "['Sam Rozenfeld', 67.0]\n",
      "['Mason Enthoven', 67.0]\n"
     ]
    }
   ],
   "source": [
    "#Shows list of names and heights of men swimmers who have the 5 shortest heights\n",
    "print(*men_swimming_shortest, sep='\\n')"
   ]
  },
  {
   "cell_type": "markdown",
   "metadata": {},
   "source": [
    "### Women Volleyball Team"
   ]
  },
  {
   "cell_type": "code",
   "execution_count": 10,
   "metadata": {},
   "outputs": [],
   "source": [
    "#Sets variables for all women in volleyball, the average height, and the 5 tallest and shortest heights.\n",
    "#URL is inputted into the web_scraper function\n",
    "all_women_volleyball, all_women_volleyball_avg, women_volleyball_tallest, women_volleyball_shortest = web_scraper(athlete_records['Womens Volleyball'])"
   ]
  },
  {
   "cell_type": "code",
   "execution_count": 11,
   "metadata": {},
   "outputs": [
    {
     "name": "stdout",
     "output_type": "stream",
     "text": [
      "['Kayli Cleaver', 76.0]\n",
      "['Alyssa Daley', 75.0]\n",
      "['Savannah  Davis', 75.0]\n",
      "['Sophia Kruczko', 75.0]\n",
      "['Molly Boyd', 75.0]\n",
      "['Madelyn Eden', 74.0]\n",
      "['Lauren Posa', 73.0]\n",
      "['Jada Suguturaga', 73.0]\n",
      "['Meredith Dixon', 73.0]\n",
      "['Lindsay Osterhoudt', 73.0]\n",
      "['Audrey Simmons', 73.0]\n",
      "['Maeson Peterson', 73.0]\n",
      "['Anna Sommer', 73.0]\n",
      "['Alli Bishop', 72.0]\n",
      "['Cat Bodick', 72.0]\n",
      "['Jachimma Onwuamaegbu', 72.0]\n",
      "['Alisha Pitt', 72.0]\n",
      "['Colby Stempkowski', 72.0]\n"
     ]
    }
   ],
   "source": [
    "#Shows list of names and heights of women volleyball players who have the 5 tallest heights.\n",
    "print(*women_volleyball_tallest, sep='\\n')"
   ]
  },
  {
   "cell_type": "code",
   "execution_count": 12,
   "metadata": {},
   "outputs": [
    {
     "name": "stdout",
     "output_type": "stream",
     "text": [
      "['Samara Correa', 60.0]\n",
      "['Yisneily  Morales', 61.0]\n",
      "['Garyana Altidor', 61.0]\n",
      "['Rashel Torres', 61.0]\n",
      "['Izabella De Lima', 61.0]\n",
      "['Jasmine  Vega', 61.0]\n",
      "['Salma Villa  Morales', 62.0]\n",
      "['Genesis Sigaran', 62.0]\n",
      "['Brianna Rodriguez', 62.0]\n",
      "['Shamonie Miller', 62.0]\n",
      "['Justine Pomales', 63.0]\n",
      "['Teonnie Blake', 63.0]\n",
      "['Sarah Munn', 63.0]\n",
      "['Kaitlyn Houck', 63.0]\n",
      "['Devina  Luckhoo', 63.0]\n",
      "['Nyla  Rivera', 63.0]\n",
      "['Brooke Singleton', 64.0]\n",
      "['Dariana  Luna', 64.0]\n",
      "['Maynee De Los Santos', 64.0]\n",
      "['Crystal Saw', 64.0]\n",
      "['Marisabel Pujols', 64.0]\n",
      "['Sahara Ramos', 64.0]\n",
      "['Natalie Mora', 64.0]\n",
      "['Mariali Sosa', 64.0]\n",
      "['Kamya Hayes', 64.0]\n",
      "['Cheyenne Gray-Taitt', 64.0]\n",
      "['Nicole  Rosas', 64.0]\n",
      "['Myka Costanzo', 64.0]\n"
     ]
    }
   ],
   "source": [
    "#Shows list of names and heights of women volleyball players who have the 5 shortest heights.\n",
    "print(*women_volleyball_shortest, sep='\\n')"
   ]
  },
  {
   "cell_type": "markdown",
   "metadata": {},
   "source": [
    "### Women Swimmers"
   ]
  },
  {
   "cell_type": "code",
   "execution_count": 13,
   "metadata": {},
   "outputs": [],
   "source": [
    "#Sets variables for all men in swimming, the average height, and the 5 tallest and shortest heights.\n",
    "#URL is inputted into the web_scraper function\n",
    "all_women_swimming, all_women_swimming_avg, women_swimming_tallest, women_swimming_shortest = web_scraper(athlete_records['Womens Swimming'])"
   ]
  },
  {
   "cell_type": "code",
   "execution_count": 14,
   "metadata": {},
   "outputs": [
    {
     "name": "stdout",
     "output_type": "stream",
     "text": [
      "['McKenzie Fazio', 75.0]\n",
      "['Maja Piotrowicz', 73.0]\n",
      "['Presley Heitzmann', 71.0]\n",
      "['Kornelia Buszka', 71.0]\n",
      "['Grace Geyer', 71.0]\n",
      "['Karley Sonnenberg', 70.0]\n",
      "['Victoria Maki', 70.0]\n",
      "['Jocelyn Zgola', 70.0]\n",
      "['Grace Korey', 70.0]\n",
      "['Gabriela Novais Lima', 70.0]\n",
      "['Stephanie Marks', 70.0]\n",
      "['Adi Luker', 70.0]\n",
      "['Teagan Powell', 69.0]\n",
      "['Brianna Shaw', 69.0]\n",
      "['Ashley Brousseau', 69.0]\n",
      "['Alison Jorolemon', 69.0]\n",
      "['Lena Nakken', 69.0]\n",
      "['Vivian Ravines', 69.0]\n",
      "['Katherine Ebrahim', 69.0]\n",
      "['Alexis Kachkin', 69.0]\n",
      "['Edna Melendez', 69.0]\n",
      "['Lyssa Wood', 69.0]\n",
      "['Joselle Mensah', 69.0]\n",
      "['Adison Marshall', 69.0]\n",
      "['Megan Hollaar', 69.0]\n",
      "['Morgen Frausto', 69.0]\n",
      "['Razzaine Williams', 69.0]\n",
      "['Bianca Hiltz', 69.0]\n",
      "['Raina Willie', 69.0]\n"
     ]
    }
   ],
   "source": [
    "#Shows list of names and heights of women swimmers who have the 5 tallest heights.\n",
    "print(*women_swimming_tallest, sep='\\n')"
   ]
  },
  {
   "cell_type": "code",
   "execution_count": 15,
   "metadata": {},
   "outputs": [
    {
     "name": "stdout",
     "output_type": "stream",
     "text": [
      "['Melanie Rodriguez', 59.0]\n",
      "['Micaela Reyes', 59.0]\n",
      "['Asha Besaw', 61.0]\n",
      "['Camila Mercado', 61.0]\n",
      "['Taylor Jacobson', 61.0]\n",
      "['Kristen Flores', 61.0]\n",
      "['Valeria Pages', 61.0]\n",
      "['Keila Fane', 62.0]\n",
      "['Maddy Joe', 62.0]\n",
      "['Magdalen Swat', 62.0]\n",
      "['Sophia Olson', 62.0]\n",
      "['Julia Caramagna', 62.0]\n",
      "['Fatima Morrobel', 62.0]\n",
      "['Kylie Tininenko', 62.0]\n",
      "['Cadence  Dudley', 62.0]\n",
      "['Deanna Soueid', 62.0]\n",
      "['Cami Yovich', 62.0]\n",
      "['Abbie Masters', 63.0]\n",
      "['Aurelia Barbagallo', 63.0]\n",
      "['Terrah DeLorimiere', 63.0]\n",
      "['Laura Cruz Rosario', 63.0]\n",
      "['Jillian Etnel', 63.0]\n",
      "['Beata Maruszczyk', 63.0]\n",
      "['Atzi Gomez', 63.0]\n",
      "['Helena  Kurtz', 64.0]\n",
      "['Anna Guzzo', 64.0]\n",
      "['Katarina Tsirlin', 64.0]\n",
      "['Rory Chea', 64.0]\n",
      "['Emperatriz Cesar', 64.0]\n",
      "['Melanie Guerrero', 64.0]\n",
      "['Chloe  Pearson', 64.0]\n",
      "['Ashley Richard', 64.0]\n",
      "['Ana Cecilia Carvalho', 64.0]\n",
      "['Fifi  Amanuel', 64.0]\n",
      "['Andrea  Menard Cordoba', 64.0]\n",
      "['Jamelia Jordan', 64.0]\n",
      "['Callie Stinson', 64.0]\n"
     ]
    }
   ],
   "source": [
    "#Shows list of names and heights of women swimmers who have the 5 shortest heights.\n",
    "print(*women_swimming_shortest, sep='\\n')"
   ]
  },
  {
   "cell_type": "markdown",
   "metadata": {},
   "source": [
    "### Average heights for each team"
   ]
  },
  {
   "cell_type": "code",
   "execution_count": 16,
   "metadata": {},
   "outputs": [
    {
     "name": "stdout",
     "output_type": "stream",
     "text": [
      "The average height for all men volleyball teams is 72.21 inches\n",
      "\n",
      "The average height for all men swimming teams is 71.36 inches\n",
      "\n",
      "The average height for all women volleyball teams is 67.66 inches\n",
      "\n",
      "The average height for all women swimming teams is 66.05 inches\n",
      "\n"
     ]
    }
   ],
   "source": [
    "#Prints average height for each team\n",
    "print('The average height for all men volleyball teams is', round(all_men_volleyball_avg, 2), 'inches\\n')\n",
    "\n",
    "print('The average height for all men swimming teams is', round(all_men_swimming_avg, 2), 'inches\\n')\n",
    "\n",
    "print('The average height for all women volleyball teams is', round(all_women_volleyball_avg, 2), 'inches\\n')\n",
    "\n",
    "print('The average height for all women swimming teams is', round(all_women_swimming_avg, 2), 'inches\\n')"
   ]
  },
  {
   "cell_type": "markdown",
   "metadata": {},
   "source": [
    "### Creating Bar Graph of Averages"
   ]
  },
  {
   "cell_type": "code",
   "execution_count": 17,
   "metadata": {},
   "outputs": [],
   "source": [
    "#Create dictionary to associate the average height with its proper team.\n",
    "avg_heights = {'Team Type':['Mens Volleyball', 'Mens Swimming', 'Womens Volleyball', 'Womens Swimming'],\n",
    "               'Avg Height':[all_men_volleyball_avg, all_men_swimming_avg, all_women_volleyball_avg, all_women_swimming_avg]\n",
    "}"
   ]
  },
  {
   "cell_type": "code",
   "execution_count": 18,
   "metadata": {},
   "outputs": [],
   "source": [
    "#Creates dataframe for average height dictionary\n",
    "avg_heights_df = pd.DataFrame(avg_heights)"
   ]
  },
  {
   "cell_type": "code",
   "execution_count": 19,
   "metadata": {},
   "outputs": [
    {
     "data": {
      "image/png": "[encoded data removed]",
      "text/plain": [
       "<Figure size 640x480 with 1 Axes>"
      ]
     },
     "metadata": {},
     "output_type": "display_data"
    }
   ],
   "source": [
    "#Uses average height dataframe to create a bar chart.\n",
    "#Makes sure axes are the same, rotation to prevent overlap, and change color as desired. Then show bar chart to copy.\n",
    "avg_heights_df.plot.bar(x='Team Type', y='Avg Height', rot = 20, title = 'Bar Graph of Average Heights Among Teams', color='orange')\n",
    "plt.show()"
   ]
  }
 ],
 "metadata": {
  "kernelspec": {
   "display_name": "Python 3",
   "language": "python",
   "name": "python3"
  },
  "language_info": {
   "codemirror_mode": {
    "name": "ipython",
    "version": 3
   },
   "file_extension": ".py",
   "mimetype": "text/x-python",
   "name": "python",
   "nbconvert_exporter": "python",
   "pygments_lexer": "ipython3",
   "version": "3.12.0"
  }
 },
 "nbformat": 4,
 "nbformat_minor": 2
}
