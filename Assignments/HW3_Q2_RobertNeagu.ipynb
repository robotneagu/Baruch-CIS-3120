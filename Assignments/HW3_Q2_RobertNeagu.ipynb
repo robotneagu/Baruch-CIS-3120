{
 "cells": [
  {
   "cell_type": "markdown",
   "metadata": {},
   "source": [
    "<p> Please note that code was inspired from template provided in class </p>"
   ]
  },
  {
   "cell_type": "code",
   "execution_count": 1,
   "metadata": {},
   "outputs": [],
   "source": [
    "#Import libraries\n",
    "import pandas as pd\n",
    "import numpy as np"
   ]
  },
  {
   "cell_type": "code",
   "execution_count": 2,
   "metadata": {},
   "outputs": [
    {
     "data": {
      "text/html": [
       "<div>\n",
       "<style scoped>\n",
       "    .dataframe tbody tr th:only-of-type {\n",
       "        vertical-align: middle;\n",
       "    }\n",
       "\n",
       "    .dataframe tbody tr th {\n",
       "        vertical-align: top;\n",
       "    }\n",
       "\n",
       "    .dataframe thead th {\n",
       "        text-align: right;\n",
       "    }\n",
       "</style>\n",
       "<table border=\"1\" class=\"dataframe\">\n",
       "  <thead>\n",
       "    <tr style=\"text-align: right;\">\n",
       "      <th></th>\n",
       "      <th>date</th>\n",
       "      <th>open</th>\n",
       "      <th>high</th>\n",
       "      <th>low</th>\n",
       "      <th>close</th>\n",
       "      <th>volume</th>\n",
       "    </tr>\n",
       "  </thead>\n",
       "  <tbody>\n",
       "    <tr>\n",
       "      <th>0</th>\n",
       "      <td>2020-01-01</td>\n",
       "      <td>50.394453</td>\n",
       "      <td>112.159087</td>\n",
       "      <td>47.824078</td>\n",
       "      <td>58.316595</td>\n",
       "      <td>115075</td>\n",
       "    </tr>\n",
       "    <tr>\n",
       "      <th>1</th>\n",
       "      <td>2020-01-02</td>\n",
       "      <td>90.273902</td>\n",
       "      <td>99.698852</td>\n",
       "      <td>88.926503</td>\n",
       "      <td>96.766761</td>\n",
       "      <td>512977</td>\n",
       "    </tr>\n",
       "    <tr>\n",
       "      <th>2</th>\n",
       "      <td>2020-01-03</td>\n",
       "      <td>77.248159</td>\n",
       "      <td>105.393199</td>\n",
       "      <td>28.067944</td>\n",
       "      <td>48.553732</td>\n",
       "      <td>450395</td>\n",
       "    </tr>\n",
       "    <tr>\n",
       "      <th>3</th>\n",
       "      <td>2020-01-04</td>\n",
       "      <td>51.031976</td>\n",
       "      <td>53.739312</td>\n",
       "      <td>36.579756</td>\n",
       "      <td>49.657439</td>\n",
       "      <td>980011</td>\n",
       "    </tr>\n",
       "    <tr>\n",
       "      <th>4</th>\n",
       "      <td>2020-01-05</td>\n",
       "      <td>87.205513</td>\n",
       "      <td>98.710825</td>\n",
       "      <td>61.199511</td>\n",
       "      <td>93.693236</td>\n",
       "      <td>658785</td>\n",
       "    </tr>\n",
       "    <tr>\n",
       "      <th>...</th>\n",
       "      <td>...</td>\n",
       "      <td>...</td>\n",
       "      <td>...</td>\n",
       "      <td>...</td>\n",
       "      <td>...</td>\n",
       "      <td>...</td>\n",
       "    </tr>\n",
       "    <tr>\n",
       "      <th>361</th>\n",
       "      <td>2020-12-27</td>\n",
       "      <td>85.995425</td>\n",
       "      <td>100.278403</td>\n",
       "      <td>55.966215</td>\n",
       "      <td>61.497026</td>\n",
       "      <td>601634</td>\n",
       "    </tr>\n",
       "    <tr>\n",
       "      <th>362</th>\n",
       "      <td>2020-12-28</td>\n",
       "      <td>70.909435</td>\n",
       "      <td>79.791211</td>\n",
       "      <td>64.054180</td>\n",
       "      <td>65.801407</td>\n",
       "      <td>725662</td>\n",
       "    </tr>\n",
       "    <tr>\n",
       "      <th>363</th>\n",
       "      <td>2020-12-29</td>\n",
       "      <td>81.494017</td>\n",
       "      <td>81.612481</td>\n",
       "      <td>30.471673</td>\n",
       "      <td>80.725766</td>\n",
       "      <td>814677</td>\n",
       "    </tr>\n",
       "    <tr>\n",
       "      <th>364</th>\n",
       "      <td>2020-12-30</td>\n",
       "      <td>96.311069</td>\n",
       "      <td>105.651581</td>\n",
       "      <td>70.940701</td>\n",
       "      <td>82.412688</td>\n",
       "      <td>138687</td>\n",
       "    </tr>\n",
       "    <tr>\n",
       "      <th>365</th>\n",
       "      <td>2020-12-31</td>\n",
       "      <td>62.243738</td>\n",
       "      <td>111.506840</td>\n",
       "      <td>62.057759</td>\n",
       "      <td>84.068467</td>\n",
       "      <td>904736</td>\n",
       "    </tr>\n",
       "  </tbody>\n",
       "</table>\n",
       "<p>366 rows × 6 columns</p>\n",
       "</div>"
      ],
      "text/plain": [
       "           date       open        high        low      close  volume\n",
       "0    2020-01-01  50.394453  112.159087  47.824078  58.316595  115075\n",
       "1    2020-01-02  90.273902   99.698852  88.926503  96.766761  512977\n",
       "2    2020-01-03  77.248159  105.393199  28.067944  48.553732  450395\n",
       "3    2020-01-04  51.031976   53.739312  36.579756  49.657439  980011\n",
       "4    2020-01-05  87.205513   98.710825  61.199511  93.693236  658785\n",
       "..          ...        ...         ...        ...        ...     ...\n",
       "361  2020-12-27  85.995425  100.278403  55.966215  61.497026  601634\n",
       "362  2020-12-28  70.909435   79.791211  64.054180  65.801407  725662\n",
       "363  2020-12-29  81.494017   81.612481  30.471673  80.725766  814677\n",
       "364  2020-12-30  96.311069  105.651581  70.940701  82.412688  138687\n",
       "365  2020-12-31  62.243738  111.506840  62.057759  84.068467  904736\n",
       "\n",
       "[366 rows x 6 columns]"
      ]
     },
     "execution_count": 2,
     "metadata": {},
     "output_type": "execute_result"
    }
   ],
   "source": [
    "#Convert csv file into a data frame.\n",
    "#csv file was in the same folder as this code, no directory path needed.\n",
    "df = pd.read_csv('stock_prices.csv')\n",
    "#Check if data frame successfully loaded.\n",
    "df"
   ]
  },
  {
   "cell_type": "code",
   "execution_count": 3,
   "metadata": {},
   "outputs": [],
   "source": [
    "#Convert dataframe into an array\n",
    "array_ = df.values"
   ]
  },
  {
   "cell_type": "markdown",
   "metadata": {},
   "source": [
    "Question 1"
   ]
  },
  {
   "cell_type": "code",
   "execution_count": 4,
   "metadata": {},
   "outputs": [
    {
     "name": "stdout",
     "output_type": "stream",
     "text": [
      "Highest closing price of the stock was $116.09.\n"
     ]
    }
   ],
   "source": [
    "#The closing stock price is column index 4.\n",
    "#Filter the array to this column and find the max value.\n",
    "#Round value to 2 decimal places since we are working with money.\n",
    "highest_close_price = array_[:, 4].max()\n",
    "rounded_highest_close_price = round(highest_close_price, 2)\n",
    "print(f'Highest closing price of the stock was ${rounded_highest_close_price}.')"
   ]
  },
  {
   "cell_type": "markdown",
   "metadata": {},
   "source": [
    "Question 2"
   ]
  },
  {
   "cell_type": "code",
   "execution_count": 5,
   "metadata": {},
   "outputs": [
    {
     "name": "stdout",
     "output_type": "stream",
     "text": [
      "Date of the highest closing price of the stock: 2020-03-01\n"
     ]
    }
   ],
   "source": [
    "#Look at the dataframe close column and find the highest closing stock price.\n",
    "#Then look at the date column in the same row and extract its value.\n",
    "highest_stock_date = df.loc[df['close'] == highest_close_price, 'date'].values[0]\n",
    "print(f'Date of the highest closing price of the stock: {highest_stock_date}')"
   ]
  },
  {
   "cell_type": "markdown",
   "metadata": {},
   "source": [
    "Question 3"
   ]
  },
  {
   "cell_type": "code",
   "execution_count": 6,
   "metadata": {},
   "outputs": [
    {
     "name": "stdout",
     "output_type": "stream",
     "text": [
      "Average daily trading volume of the stock: 558026\n"
     ]
    }
   ],
   "source": [
    "#The daily trading volume of the stock is column index 5\n",
    "#Select all values from column 5 of the array and find the mean\n",
    "average_trading_volume = np.mean(array_[:,5])\n",
    "#Round value to an integer since shares are sold as a whole.\n",
    "rounded_average_trading_volume = int(round(average_trading_volume, 0))\n",
    "print(f'Average daily trading volume of the stock: {rounded_average_trading_volume}')"
   ]
  },
  {
   "cell_type": "markdown",
   "metadata": {},
   "source": [
    "Question 4"
   ]
  },
  {
   "cell_type": "code",
   "execution_count": 7,
   "metadata": {},
   "outputs": [
    {
     "name": "stdout",
     "output_type": "stream",
     "text": [
      "Standard deviation of the daily trading volume of the stock: 269710.99360357743\n"
     ]
    }
   ],
   "source": [
    "#The daily trading volume of the stock is column index 5\n",
    "#Select all values from column 5 of the array and find the the standard deviation.\n",
    "std_trading_volume = np.std(array_[:, 5])\n",
    "print(f'Standard deviation of the daily trading volume of the stock: {std_trading_volume}')"
   ]
  },
  {
   "cell_type": "markdown",
   "metadata": {},
   "source": [
    "Question 5"
   ]
  },
  {
   "cell_type": "code",
   "execution_count": 8,
   "metadata": {},
   "outputs": [
    {
     "name": "stdout",
     "output_type": "stream",
     "text": [
      "Number of days the stock closing price was higher than its opening price: 186.\n"
     ]
    }
   ],
   "source": [
    "#Opening price is column index 1, closing price is column index 4.\n",
    "#Using the sum function, we can compare all the values from index 1 and index 4 and see how\n",
    "#many times index 1 is greater than index 4.\n",
    "#The sum then shows how many days the closing price was higher than the opening price.\n",
    "higher_close_price = np.sum(array_[:,1] > array_[:,4])\n",
    "print(f'Number of days the stock closing price was higher than its opening price: {higher_close_price}.')"
   ]
  },
  {
   "cell_type": "markdown",
   "metadata": {},
   "source": [
    "Question 6"
   ]
  },
  {
   "cell_type": "code",
   "execution_count": 9,
   "metadata": {},
   "outputs": [
    {
     "name": "stdout",
     "output_type": "stream",
     "text": [
      "Percentage of total trading days the stock closed higher than its opening price: 50.81967213114754%\n"
     ]
    }
   ],
   "source": [
    "#Take the number of days the closing price was higher than the opening price and\n",
    "#divide it by the total number of days. \n",
    "#Total number of days is the amount of rows of the dataframe, or the length of the array\n",
    "higher_close_percent = higher_close_price / len(array_) * 100\n",
    "print(f'Percentage of total trading days the stock closed higher than its opening price: {higher_close_percent}%')"
   ]
  }
 ],
 "metadata": {
  "kernelspec": {
   "display_name": "Python 3",
   "language": "python",
   "name": "python3"
  },
  "language_info": {
   "codemirror_mode": {
    "name": "ipython",
    "version": 3
   },
   "file_extension": ".py",
   "mimetype": "text/x-python",
   "name": "python",
   "nbconvert_exporter": "python",
   "pygments_lexer": "ipython3",
   "version": "3.12.0"
  }
 },
 "nbformat": 4,
 "nbformat_minor": 2
}
