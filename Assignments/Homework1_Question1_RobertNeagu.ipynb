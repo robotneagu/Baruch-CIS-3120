{
 "cells": [
  {
   "cell_type": "markdown",
   "metadata": {},
   "source": [
    "### Import BeautifulSoup and set each URL to a variable"
   ]
  },
  {
   "cell_type": "code",
   "execution_count": 15,
   "metadata": {},
   "outputs": [],
   "source": [
    "#Importing BeautifulSoup library that allows web scraping.\n",
    "import requests\n",
    "from bs4 import BeautifulSoup"
   ]
  },
  {
   "cell_type": "code",
   "execution_count": 16,
   "metadata": {},
   "outputs": [],
   "source": [
    "#Set each team URL to a variable. Makes coding organized and easier to understand\n",
    "men_swimming_url = 'https://athletics.baruch.cuny.edu/sports/mens-swimming-and-diving/roster?view=2'\n",
    "men_volleyball_url = 'https://athletics.baruch.cuny.edu/sports/mens-volleyball/roster?view=2'\n",
    "women_swimming_url = 'https://athletics.baruch.cuny.edu/sports/womens-swimming-and-diving/roster?view=2'\n",
    "women_volleyball_url = 'https://athletics.baruch.cuny.edu/sports/womens-volleyball/roster?view=2'"
   ]
  },
  {
   "cell_type": "markdown",
   "metadata": {},
   "source": [
    "### Creating a function that will make data gathering easier."
   ]
  },
  {
   "cell_type": "code",
   "execution_count": 17,
   "metadata": {},
   "outputs": [],
   "source": [
    "#Creating a function called web_scraper that gathers the heights and the average for any URL (variable) inputted\n",
    "#url is the input of the function\n",
    "def web_scraper(url):\n",
    "\n",
    "    #Sets url to variable page and connects to that URL.\n",
    "    page = requests.get(url)\n",
    "    print(f'URL chosen: {url}')\n",
    "\n",
    "    #Checks if connection to the URL is code 200, meaning a successful connection.\n",
    "    #Then sets variable soup to the HTML content of the URL.\n",
    "    #Height variable is used to collect all the heights by selecting td tags with the height class.\n",
    "    if page.status_code == 200:\n",
    "        print('Connection successful!')\n",
    "        print('')\n",
    "        soup = BeautifulSoup(page.content, 'html.parser')\n",
    "        height = soup.find_all('td', class_ = 'height')\n",
    "\n",
    "    #Create an empty list to eventually store all the heights.\n",
    "    height_list = []\n",
    "\n",
    "    #Loop that first removes all HTML content except the text inside the td block. Stored in variable value.\n",
    "    #Value_list variable splits the feet and inches into a list.\n",
    "    #feet_in_inches converts the first value in the list, feet, into inches. Stored into variable.\n",
    "    #inches variable stores the second value from the list, inches.\n",
    "    #Height in inches variable adds two previous variables to calculate the height in inches.\n",
    "    #That value is then stored in the height list.\n",
    "    #Print statements show the variables in an organized manner.\n",
    "    #Process repeats for each td block and each value inside the loop is overridden for the next height.\n",
    "    for v in height:\n",
    "        value = v.get_text()\n",
    "        value_list = value.split('-')\n",
    "        feet_in_inches = float(value_list[0]) * 12\n",
    "        inches = float(value_list[1])\n",
    "        height_in_inches = feet_in_inches + inches\n",
    "        height_list.append(height_in_inches)\n",
    "    print('List of all heights in inches:')\n",
    "    print(height_list)\n",
    "    print('')\n",
    "\n",
    "    #Uses the height list to find its average. \n",
    "    #Then returns the average_height variable to be used in other functions.\n",
    "    average_height = sum(height_list)/len(height_list)\n",
    "    return average_height"
   ]
  },
  {
   "cell_type": "markdown",
   "metadata": {},
   "source": [
    "### Data scraped and found for each team"
   ]
  },
  {
   "cell_type": "code",
   "execution_count": 18,
   "metadata": {},
   "outputs": [
    {
     "name": "stdout",
     "output_type": "stream",
     "text": [
      "URL chosen: https://athletics.baruch.cuny.edu/sports/mens-swimming-and-diving/roster?view=2\n",
      "Connection successful!\n",
      "\n",
      "List of all heights in inches:\n",
      "[69.0, 74.0, 69.0, 75.0, 68.0, 69.0, 71.0, 70.0, 74.0, 69.0, 68.0, 72.0, 71.0, 68.0, 68.0]\n",
      "\n",
      "The average height of the men's swimming team is 70.33 inches.\n"
     ]
    }
   ],
   "source": [
    "#Variable uses web_scraper function to find average for men's swimming team. Formatted to 2 decimal places.\n",
    "#Average is stored in a variable for easy comparisons in later code lines.\n",
    "#Then prints average of this variable stating for which team it is for.\n",
    "average_men_swimming_height=\"{:.2f}\".format(web_scraper(men_swimming_url))\n",
    "print(f\"The average height of the men's swimming team is {average_men_swimming_height} inches.\")"
   ]
  },
  {
   "cell_type": "code",
   "execution_count": 19,
   "metadata": {},
   "outputs": [
    {
     "name": "stdout",
     "output_type": "stream",
     "text": [
      "URL chosen: https://athletics.baruch.cuny.edu/sports/mens-volleyball/roster?view=2\n",
      "Connection successful!\n",
      "\n",
      "List of all heights in inches:\n",
      "[69.0, 75.0, 75.0, 67.0, 73.0, 70.0, 72.0, 72.0, 69.0, 76.0, 73.0, 76.0, 77.0, 71.0, 74.0, 65.0, 68.0, 79.0, 76.0]\n",
      "\n",
      "The average height of the men's volleyball team is 72.47 inches.\n"
     ]
    }
   ],
   "source": [
    "#Variable uses web_scraper function to find average for men's volleyball team. Formatted to 2 decimal places.\n",
    "#Average is stored in a variable for easy comparisons in later code lines.\n",
    "#Then prints average of this variable stating for which team it is for.\n",
    "average_men_volleyball_height=\"{:.2f}\".format(web_scraper(men_volleyball_url))\n",
    "print(f\"The average height of the men's volleyball team is {average_men_volleyball_height} inches.\")"
   ]
  },
  {
   "cell_type": "code",
   "execution_count": 20,
   "metadata": {},
   "outputs": [
    {
     "name": "stdout",
     "output_type": "stream",
     "text": [
      "URL chosen: https://athletics.baruch.cuny.edu/sports/womens-swimming-and-diving/roster?view=2\n",
      "Connection successful!\n",
      "\n",
      "List of all heights in inches:\n",
      "[64.0, 63.0, 62.0, 68.0, 63.0, 65.0, 65.0, 65.0, 69.0, 64.0, 62.0, 62.0, 58.0]\n",
      "\n",
      "The average height of the women's swimming team is 63.85 inches.\n"
     ]
    }
   ],
   "source": [
    "#Variable uses web_scraper function to find average for women's swimming team. Formatted to 2 decimal places.\n",
    "#Average is stored in a variable for easy comparisons in later code lines.\n",
    "#Then prints average of this variable stating for which team it is for.\n",
    "average_women_swimming_height=\"{:.2f}\".format(web_scraper(women_swimming_url))\n",
    "print(f\"The average height of the women's swimming team is {average_women_swimming_height} inches.\")"
   ]
  },
  {
   "cell_type": "code",
   "execution_count": 21,
   "metadata": {},
   "outputs": [
    {
     "name": "stdout",
     "output_type": "stream",
     "text": [
      "URL chosen: https://athletics.baruch.cuny.edu/sports/womens-volleyball/roster?view=2\n",
      "Connection successful!\n",
      "\n",
      "List of all heights in inches:\n",
      "[72.0, 67.0, 67.0, 66.0, 65.0, 68.0, 68.0, 67.0, 64.0, 66.0, 66.0, 71.0]\n",
      "\n",
      "The average height of the women's volleyball team is 67.25 inches.\n"
     ]
    }
   ],
   "source": [
    "#Variable uses web_scraper function to find average for women's volleyball team. Formatted to 2 decimal places.\n",
    "#Average is stored in a variable for easy comparisons in later code lines.\n",
    "#Then prints average of this variable stating for which team it is for.\n",
    "average_women_volleyball_height=\"{:.2f}\".format(web_scraper(women_volleyball_url))\n",
    "print(f\"The average height of the women's volleyball team is {average_women_volleyball_height} inches.\")"
   ]
  },
  {
   "cell_type": "markdown",
   "metadata": {},
   "source": [
    "### Comparing the data between teams"
   ]
  },
  {
   "cell_type": "code",
   "execution_count": 22,
   "metadata": {},
   "outputs": [
    {
     "name": "stdout",
     "output_type": "stream",
     "text": [
      "On average, men volleyball players are taller than men swimming players.\n"
     ]
    }
   ],
   "source": [
    "#If-else statement that determines which men team is taller.\n",
    "#Result is printed for the user to see.\n",
    "if average_men_swimming_height > average_men_volleyball_height:\n",
    "    print(\"On average, men swimming players are taller than men volleyball players.\")\n",
    "else:\n",
    "    print(\"On average, men volleyball players are taller than men swimming players.\")"
   ]
  },
  {
   "cell_type": "code",
   "execution_count": 23,
   "metadata": {},
   "outputs": [
    {
     "name": "stdout",
     "output_type": "stream",
     "text": [
      "On average, women volleyball players are taller than women swimming players.\n"
     ]
    }
   ],
   "source": [
    "#If-else statement that determines which women team is taller.\n",
    "#Result is printed for the user to see.\n",
    "if average_women_swimming_height > average_women_volleyball_height:\n",
    "    print(\"On average, women swimming players are taller than women volleyball players.\")\n",
    "else:\n",
    "    print(\"On average, women volleyball players are taller than women swimming players.\")"
   ]
  },
  {
   "cell_type": "code",
   "execution_count": 24,
   "metadata": {},
   "outputs": [
    {
     "name": "stdout",
     "output_type": "stream",
     "text": [
      "The average volleyball player is taller than the average swimmer.\n"
     ]
    }
   ],
   "source": [
    "#If else statement that checks on average which sport team has taller players.\n",
    "#And condition combines the heights of both teams.\n",
    "#Result is printed for the user to see.\n",
    "if average_men_swimming_height and average_women_swimming_height > average_men_volleyball_height and average_women_volleyball_height:\n",
    "    print('The average swimmer is taller than the average volleyball player.')\n",
    "else:\n",
    "    print('The average volleyball player is taller than the average swimmer.')"
   ]
  }
 ],
 "metadata": {
  "kernelspec": {
   "display_name": "Python 3",
   "language": "python",
   "name": "python3"
  },
  "language_info": {
   "codemirror_mode": {
    "name": "ipython",
    "version": 3
   },
   "file_extension": ".py",
   "mimetype": "text/x-python",
   "name": "python",
   "nbconvert_exporter": "python",
   "pygments_lexer": "ipython3",
   "version": "3.12.0"
  },
  "orig_nbformat": 4
 },
 "nbformat": 4,
 "nbformat_minor": 2
}
